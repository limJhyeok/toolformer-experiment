{
 "cells": [
  {
   "cell_type": "code",
   "execution_count": 2,
   "metadata": {},
   "outputs": [
    {
     "name": "stderr",
     "output_type": "stream",
     "text": [
      "/root/anaconda3/envs/toolformer/lib/python3.10/site-packages/tqdm/auto.py:21: TqdmWarning: IProgress not found. Please update jupyter and ipywidgets. See https://ipywidgets.readthedocs.io/en/stable/user_install.html\n",
      "  from .autonotebook import tqdm as notebook_tqdm\n",
      "Special tokens have been added in the vocabulary, make sure the associated word embeddings are fine-tuned or trained.\n",
      "config.json: 100%|██████████| 930/930 [00:00<00:00, 3.83MB/s]\n",
      "pytorch_model.bin: 100%|██████████| 24.2G/24.2G [20:37<00:00, 19.6MB/s]  \n"
     ]
    }
   ],
   "source": [
    "%load_ext autoreload\n",
    "%autoreload 2\n",
    "\n",
    "from transformers import AutoTokenizer, AutoModelForCausalLM\n",
    "import re\n",
    "import torch\n",
    "tokenizer = AutoTokenizer.from_pretrained(\"EleutherAI/gpt-j-6B\")\n",
    "model = AutoModelForCausalLM.from_pretrained(\"EleutherAI/gpt-j-6B\")\n",
    "\n",
    "DEVICE = 'cuda' if torch.cuda.is_available() else \"cpu\"\n",
    "model = model.to(DEVICE)"
   ]
  },
  {
   "cell_type": "code",
   "execution_count": 3,
   "metadata": {},
   "outputs": [],
   "source": [
    "prompt = f\"\"\"\n",
    "Your task is to add calls to a Calendar API to a piece of text.\n",
    "The API calls should help you get information required to complete the text.\n",
    "You can call the API by writing \"[Calendar()]\"\n",
    "Here are some examples of API calls:\n",
    "Input: Today is the first Friday of the year.\n",
    "Output: Today is the first [Calendar()] Friday of the year.\n",
    "Input: The president of the United States is Joe Biden.\n",
    "Output: The president of the United States is [Calendar()] Joe Biden.\n",
    "Input: [input]\n",
    "Output:\n",
    "\"\"\"\n",
    "\n",
    "data = [\n",
    "    \"The store is never open on the weekend, so today it is closed.\",\n",
    "    \"The number of days from now until Christmas is 30\",\n",
    "    \"The current day of the week is Wednesday.\"\n",
    "]"
   ]
  },
  {
   "cell_type": "code",
   "execution_count": 4,
   "metadata": {},
   "outputs": [],
   "source": [
    "idx = 0\n",
    "DEFAULT_PROMPT_INPUT_TAG = '[input]'\n",
    "prompt_input_tag_regex = re.escape(DEFAULT_PROMPT_INPUT_TAG)\n",
    "data_string = data[idx]\n",
    "data_with_prompt = re.sub(prompt_input_tag_regex, data_string, prompt)\n",
    "token_ids = tokenizer(data_with_prompt, return_tensors = 'pt')\n",
    "\n",
    "batch_size, len_prev = token_ids['input_ids'].size()"
   ]
  },
  {
   "cell_type": "code",
   "execution_count": 50,
   "metadata": {},
   "outputs": [
    {
     "name": "stderr",
     "output_type": "stream",
     "text": [
      "Setting `pad_token_id` to `eos_token_id`:50256 for open-end generation.\n"
     ]
    }
   ],
   "source": [
    "import torch\n",
    "with torch.no_grad():\n",
    "  output = model.generate(**token_ids, max_new_tokens=20)"
   ]
  },
  {
   "cell_type": "code",
   "execution_count": 59,
   "metadata": {},
   "outputs": [
    {
     "data": {
      "text/plain": [
       "'The store is never open on the [Calendar()] weekend, so today it is closed.'"
      ]
     },
     "execution_count": 59,
     "metadata": {},
     "output_type": "execute_result"
    }
   ],
   "source": [
    "tokenizer.decode(output[0][len_prev:])"
   ]
  },
  {
   "cell_type": "code",
   "execution_count": 64,
   "metadata": {},
   "outputs": [
    {
     "name": "stdout",
     "output_type": "stream",
     "text": [
      "API call with argument: no argument,\n",
      "result: Today is Thursday, November 30, 2023.\n"
     ]
    }
   ],
   "source": [
    "from tools import Calendar\n",
    "print(f\"API call with argument: no argument,\\nresult: {Calendar()}\")"
   ]
  },
  {
   "cell_type": "code",
   "execution_count": 65,
   "metadata": {},
   "outputs": [
    {
     "name": "stdout",
     "output_type": "stream",
     "text": [
      "Text with the API call\n",
      "'The store is never open on the [Calendar() -> Today is Thursday, November 30, 2023.] weekend, so today it is closed.'\n"
     ]
    }
   ],
   "source": [
    "print(f\"Text with the API call\\n'The store is never open on the [Calendar() -> {Calendar()}] weekend, so today it is closed.'\")"
   ]
  },
  {
   "cell_type": "code",
   "execution_count": 9,
   "metadata": {},
   "outputs": [],
   "source": [
    "# 문맥상 api 결과가 주말이여야 더 그럴듯하므로 변경\n",
    "including_API_with_result ='The store is never open on the [Calendar() -> Today is Saturday, November 25, 2023.]' \n",
    "including_API_without_result = 'The store is never open on the [Calendar()]'\n",
    "plain_text = 'The store is never open on the'\n",
    "\n",
    "next_words = 'weekend, so today it is closed.'"
   ]
  },
  {
   "cell_type": "code",
   "execution_count": 10,
   "metadata": {},
   "outputs": [],
   "source": [
    "inputs = tokenizer(including_API_with_result + next_words, return_tensors = 'pt')\n",
    "mask_tokens = tokenizer(including_API_with_result, return_tensors = 'pt')\n",
    "batch_size, len_mask_tokens = mask_tokens['input_ids'].size()\n",
    "\n",
    "labels = tokenizer(including_API_with_result + next_words, return_tensors = \"pt\")['input_ids']\n",
    "labels[:, :len_mask_tokens] = -100\n",
    "\n",
    "inputs = inputs.to(DEVICE)\n",
    "labels = labels.to(DEVICE)\n",
    "with torch.no_grad():\n",
    "  api_with_result_output = model(**inputs, labels=labels)"
   ]
  },
  {
   "cell_type": "code",
   "execution_count": 13,
   "metadata": {},
   "outputs": [],
   "source": [
    "inputs = tokenizer(including_API_without_result + next_words, return_tensors = 'pt')\n",
    "mask_tokens = tokenizer(including_API_without_result, return_tensors = 'pt')\n",
    "batch_size, len_mask_tokens = mask_tokens['input_ids'].size()\n",
    "\n",
    "labels = tokenizer(including_API_without_result + next_words, return_tensors = \"pt\")['input_ids']\n",
    "labels[:, :len_mask_tokens] = -100\n",
    "\n",
    "inputs = inputs.to(DEVICE)\n",
    "labels = labels.to(DEVICE)\n",
    "with torch.no_grad():\n",
    "  api_without_result_output = model(**inputs, labels=labels)"
   ]
  },
  {
   "cell_type": "code",
   "execution_count": 15,
   "metadata": {},
   "outputs": [],
   "source": [
    "inputs = tokenizer(plain_text + next_words, return_tensors = 'pt')\n",
    "mask_tokens = tokenizer(plain_text, return_tensors = 'pt')\n",
    "batch_size, len_mask_tokens = mask_tokens['input_ids'].size()\n",
    "\n",
    "labels = tokenizer(plain_text + next_words, return_tensors = \"pt\")['input_ids']\n",
    "labels[:, :len_mask_tokens] = -100\n",
    "\n",
    "inputs = inputs.to(DEVICE)\n",
    "labels = labels.to(DEVICE)\n",
    "with torch.no_grad():\n",
    "  plain_output = model(**inputs, labels=labels)"
   ]
  },
  {
   "cell_type": "code",
   "execution_count": 16,
   "metadata": {},
   "outputs": [
    {
     "name": "stdout",
     "output_type": "stream",
     "text": [
      "api + result loss: 2.8421099185943604\n",
      "api without result loss: 2.9888060092926025\n",
      "plain text loss: 3.8347482681274414\n"
     ]
    }
   ],
   "source": [
    "print(f\"api + result loss: {api_with_result_output.loss}\")\n",
    "print(f\"api without result loss: {api_without_result_output.loss}\")\n",
    "print(f\"plain text loss: {plain_output.loss}\")"
   ]
  },
  {
   "cell_type": "code",
   "execution_count": null,
   "metadata": {},
   "outputs": [],
   "source": [
    "filtering_threshold = 1.0\n",
    "if api_with_result_output.loss > min(api_without_result_output, plain_output) + filtering_threshold:\n",
    "  finetune_dataset = including_API_without_result + next_words\n",
    "else:\n",
    "  finetune_dataset = plain_text + next_words"
   ]
  }
 ],
 "metadata": {
  "kernelspec": {
   "display_name": "toolformer",
   "language": "python",
   "name": "python3"
  },
  "language_info": {
   "codemirror_mode": {
    "name": "ipython",
    "version": 3
   },
   "file_extension": ".py",
   "mimetype": "text/x-python",
   "name": "python",
   "nbconvert_exporter": "python",
   "pygments_lexer": "ipython3",
   "version": "3.10.13"
  }
 },
 "nbformat": 4,
 "nbformat_minor": 2
}
